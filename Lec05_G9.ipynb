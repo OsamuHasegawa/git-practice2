{
  "nbformat": 4,
  "nbformat_minor": 0,
  "metadata": {
    "colab": {
      "name": "Lec05_G9.pynb",
      "provenance": [],
      "authorship_tag": "ABX9TyPG05uR9Ux8F+RKN+F/FiDP",
      "include_colab_link": true
    },
    "kernelspec": {
      "name": "python3",
      "display_name": "Python 3"
    }
  },
  "cells": [
    {
      "cell_type": "markdown",
      "metadata": {
        "id": "view-in-github",
        "colab_type": "text"
      },
      "source": [
        "<a href=\"https://colab.research.google.com/github/OsamuHasegawa/git-practice2/blob/master/Lec05_G9.ipynb\" target=\"_parent\"><img src=\"https://colab.research.google.com/assets/colab-badge.svg\" alt=\"Open In Colab\"/></a>"
      ]
    },
    {
      "cell_type": "markdown",
      "metadata": {
        "id": "BC7r7DmwEY3K",
        "colab_type": "text"
      },
      "source": [
        "---\n",
        "<div style=\"text-align: center;\" >\n",
        "    <h1>\n",
        "        <b>データと数理 1</b>\n",
        "    </h1>\n",
        "    <h3>\n",
        "          第5回 授業課題\n",
        "    </h3>\n",
        "</div>\n",
        "\n",
        "<div style=\"text-align: right\">\n",
        "    G9\n",
        "    学籍番号 <br/>\n",
        "    氏　　名\n",
        "</div>\n",
        "\n",
        "---"
      ]
    },
    {
      "cell_type": "code",
      "metadata": {
        "id": "aI-MzsqGEFsa",
        "colab_type": "code",
        "colab": {}
      },
      "source": [
        ""
      ],
      "execution_count": 0,
      "outputs": []
    },
    {
      "cell_type": "code",
      "metadata": {
        "id": "Pzs6WNdJEiBh",
        "colab_type": "code",
        "colab": {}
      },
      "source": [
        ""
      ],
      "execution_count": 0,
      "outputs": []
    },
    {
      "cell_type": "code",
      "metadata": {
        "id": "86cl5KQeFBhn",
        "colab_type": "code",
        "colab": {}
      },
      "source": [
        ""
      ],
      "execution_count": 0,
      "outputs": []
    }
  ]
}